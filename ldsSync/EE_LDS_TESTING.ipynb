{
 "cells": [
  {
   "cell_type": "code",
   "execution_count": 19,
   "id": "2b36d5a6",
   "metadata": {},
   "outputs": [],
   "source": [
    "import requests\n",
    "import pytz\n",
    "from datetime import datetime, timedelta\n",
    "import json\n",
    "import os\n",
    "import time"
   ]
  },
  {
   "cell_type": "code",
   "execution_count": 20,
   "id": "54371c95",
   "metadata": {},
   "outputs": [],
   "source": [
    "session = requests.session()"
   ]
  },
  {
   "cell_type": "code",
   "execution_count": 21,
   "id": "68a4714f",
   "metadata": {},
   "outputs": [],
   "source": [
    "# EE VMS User Credentials:\n",
    "base       = \"login\"\n",
    "branding   = \"\" # will populate at a later stage\n",
    "username   = \"\"\n",
    "password   = \"\"\n",
    "# EE VMS API Key:\n",
    "api_key    = \"\" # not mandatory for API V1/V2\n",
    "# Start and end timestamp:\n",
    "timestamp = (datetime.now(pytz.timezone('UTC')).strftime('%Y%m%d%H%M%S.000')) # UTC Timestamp\n",
    "tz = pytz.timezone('Europe/Amsterdam') # Amsterdam TimeZone\n",
    "start_time = timestamp # Start TimeStamp\n",
    "end_time   = (datetime.now(tz=tz).strftime('%Y%m%d%H%M%S.000')) # End_Time = start_time + 1 hour"
   ]
  },
  {
   "cell_type": "code",
   "execution_count": 22,
   "id": "aa80dcf9",
   "metadata": {},
   "outputs": [],
   "source": [
    "\n",
    "url = \"https://\" + base + \".eagleeyenetworks.com/g/aaa/authenticate\"\n",
    "payload = json.dumps({\n",
    "    'username': username,\n",
    "    'password': password\n",
    "})\n",
    "headers = {\n",
    "    'content-type': 'application/json',\n",
    "    'authorization': api_key\n",
    "}\n",
    "response = session.request(\"POST\", url, data=payload, headers=headers)\n",
    "token = response.json()['token']"
   ]
  },
  {
   "cell_type": "code",
   "execution_count": 23,
   "id": "dca599db",
   "metadata": {},
   "outputs": [],
   "source": [
    "# Login Eagleeyenetworks\n",
    "url = \"https://\" + base + \".eagleeyenetworks.com/g/aaa/authorize\"\n",
    "payload = json.dumps({'token': token})\n",
    "headers = {\n",
    "    'content-type': 'application/json',\n",
    "    'authorization': api_key\n",
    "}\n",
    "response = session.request(\"POST\", url, data=payload, headers=headers)\n",
    "auth_key = session.cookies.get_dict()[\"auth_key\"]\n",
    "branding = response.json()[\"active_brand_subdomain\"]"
   ]
  },
  {
   "cell_type": "code",
   "execution_count": 24,
   "id": "14edcc04",
   "metadata": {},
   "outputs": [
    {
     "name": "stdout",
     "output_type": "stream",
     "text": [
      "/g/device 200 {'id': '100c96fc'}\n",
      "Get Camera RTSP error {'id': '100c96fc'} 500\n",
      "/g/device 200 {'id': '100207f5'}\n",
      "/g/device/rtsp 200 {'id': '100207f5'}\n",
      "/g/device 200 {'id': '100b1529'}\n",
      "/g/device/rtsp 200 {'id': '100b1529'}\n",
      "/g/device 200 {'id': '1007ccd8'}\n",
      "/g/device/rtsp 200 {'id': '1007ccd8'}\n",
      "/g/device 200 {'id': '1008a415'}\n",
      "/g/device/rtsp 200 {'id': '1008a415'}\n",
      "/g/device 200 {'id': '10096def'}\n",
      "/g/device/rtsp 200 {'id': '10096def'}\n",
      "/g/device 200 {'id': '1006ab89'}\n",
      "/g/device/rtsp 200 {'id': '1006ab89'}\n",
      "/g/device 200 {'id': '100fbe9f'}\n",
      "/g/device/rtsp 200 {'id': '100fbe9f'}\n",
      "/g/device 200 {'id': '1008aa93'}\n",
      "/g/device/rtsp 200 {'id': '1008aa93'}\n",
      "/g/device 200 {'id': '100de948'}\n",
      "/g/device/rtsp 200 {'id': '100de948'}\n",
      "End of the script 200\n"
     ]
    }
   ],
   "source": [
    "camera_ids = []\n",
    "url = \"https://\"+branding+\".eagleeyenetworks.com/g/device/list\"\n",
    "payload = \"\"\n",
    "headers = {'authorization': api_key}\n",
    "response = session.request(\"GET\",url)\n",
    "if response.status_code == 200:\n",
    "    for device in response.json():\n",
    "        if device[3] == \"camera\":\n",
    "            if len(camera_ids) < 32:\n",
    "                camera_ids.append(device[1])\n",
    "    for id in camera_ids:\n",
    "        url1 = \"https://\"+branding+\".eagleeyenetworks.com/g/device\"\n",
    "        url2 = \"https://\"+branding+\".eagleeyenetworks.com/g/device/rtsp\"\n",
    "        params = {\"id\": id}\n",
    "        r = session.request(\"GET\",url1,params=params)\n",
    "        re = session.request(\"GET\",url2,params=params)\n",
    "        if r.status_code == 200:\n",
    "            print(\"/g/device\", r.status_code, params)\n",
    "        else:\n",
    "            print(\"not getting 200 but: \", r.status_code, params)     \n",
    "        if re.status_code == 200:\n",
    "            print(\"/g/device/rtsp\", re.status_code, params)\n",
    "            if re.json()[\"preview_url\"] == \"\" or \\\n",
    "               re.json()[\"video_url\"] == \"\":\n",
    "                    print(\"get device rtsp\",id, re.status_code)\n",
    "        else:\n",
    "            print(\"Get Camera RTSP error\", params, re.status_code )        \n",
    "else:       \n",
    "    print(\"response 01\", response.status_code)\n",
    "print(\"End of the script\", response.status_code)"
   ]
  }
 ],
 "metadata": {
  "kernelspec": {
   "display_name": "Python 3 (ipykernel)",
   "language": "python",
   "name": "python3"
  },
  "vscode": {
   "interpreter": {
    "hash": "b0fa6594d8f4cbf19f97940f81e996739fb7646882a419484c72d19e05852a7e"
   }
  }
 },
 "nbformat": 4,
 "nbformat_minor": 5
}
